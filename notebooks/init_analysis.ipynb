{
 "cells": [
  {
   "cell_type": "code",
   "execution_count": null,
   "id": "099c261f-114e-4363-9181-89b8885a899a",
   "metadata": {
    "tags": []
   },
   "outputs": [],
   "source": [
    "import shutil\n",
    "import numpy as np\n",
    "import yaml\n",
    "import pandas as pd\n",
    "import sys\n",
    "import re\n",
    "import shlex, subprocess, os"
   ]
  },
  {
   "cell_type": "markdown",
   "id": "16e756d7-d1a3-4c23-b9ed-6bcbec1b2a1a",
   "metadata": {},
   "source": [
    "## Reading config and file names"
   ]
  },
  {
   "cell_type": "code",
   "execution_count": null,
   "id": "e08ee66b-9dd4-4832-9f20-d50e6fb25a72",
   "metadata": {
    "tags": []
   },
   "outputs": [],
   "source": [
    "os.chdir((sys.path[0]))"
   ]
  },
  {
   "cell_type": "code",
   "execution_count": null,
   "id": "c817d0b2-6b59-42e2-9971-deea1b29f446",
   "metadata": {
    "tags": []
   },
   "outputs": [],
   "source": [
    "with open(\"../configs/config.yaml\", \"r\") as yamlfile:\n",
    "    config = yaml.load(yamlfile, Loader=yaml.FullLoader)\n",
    "    print(\"Read successful\")\n",
    "print(config)"
   ]
  },
  {
   "cell_type": "code",
   "execution_count": null,
   "id": "6140f644-f78f-4dfe-84ff-1fe6b70294a3",
   "metadata": {
    "tags": []
   },
   "outputs": [],
   "source": [
    "raw = config['data']['raw']\n",
    "fastp = config['data']['fastp']\n",
    "fastp_json = config['data']['fastp_json']"
   ]
  },
  {
   "cell_type": "code",
   "execution_count": null,
   "id": "18bcbda2-d4a1-42c4-97cc-776564728090",
   "metadata": {
    "tags": []
   },
   "outputs": [],
   "source": [
    "metadata = pd.read_csv(\"../metadata/drugs_metadata.tsv\", sep=\"\\t\")\n",
    "mapping = dict(zip(metadata.iloc[:, 1], metadata.iloc[:, 0]))\n",
    "mapping = {\n",
    "    re.sub(r'\\.fastq(?:\\.gz)?$|\\.fq(?:\\.gz)?$', '', k): v\n",
    "    for k, v in mapping.items()\n",
    "}\n",
    "with open(\"../configs/multiqc_config.yaml\", \"w\") as f:\n",
    "    yaml.dump({\"sample_names_replace\": mapping}, f, default_flow_style=False)"
   ]
  },
  {
   "cell_type": "code",
   "execution_count": null,
   "id": "eb0b9381-a948-4158-973b-c5492621a064",
   "metadata": {
    "tags": []
   },
   "outputs": [],
   "source": [
    "os.chdir(raw)\n",
    "files = [f for f in os.listdir('.') if os.path.isfile(f)]\n",
    "files.sort()\n",
    "len(files)"
   ]
  },
  {
   "cell_type": "code",
   "execution_count": null,
   "id": "6df07fb8-efbe-4b21-b607-bbc891e604c8",
   "metadata": {
    "tags": []
   },
   "outputs": [],
   "source": [
    "ids = np.unique([\n",
    "    \"_\".join(f.split(\"_\")[2:5])\n",
    "    for f in files\n",
    "])\n",
    "len(ids)"
   ]
  },
  {
   "cell_type": "markdown",
   "id": "9a2a5364-db36-4b20-9669-0a0d08c89d93",
   "metadata": {
    "tags": []
   },
   "source": [
    "## Perform quality control with fastp"
   ]
  },
  {
   "cell_type": "code",
   "execution_count": null,
   "id": "08a93405-8c61-4b86-8a87-9916355a14ee",
   "metadata": {
    "tags": []
   },
   "outputs": [],
   "source": [
    "for i in range(len(ids)):\n",
    "    path = \"\".join([fastp, '/',ids[i],\"_fastp\"])\n",
    "    r1 = files[i*2]\n",
    "    r2 = files[i*2+1]\n",
    "    out = \"\".join([path, \"/\", ids[i]])\n",
    "    print(out)\n",
    "    \n",
    "    if not os.path.exists(path):\n",
    "        os.makedirs(path)\n",
    "    else:\n",
    "        shutil.rmtree(path)\n",
    "        os.makedirs(path)\n",
    "\n",
    "    os.system(f\"fastp -i {r1} -I {r2} -h {out}.html -j {out}.json -o {out}\\_R1\\_fastp.fq.gz -O {out}\\_R2\\_fastp.fq.gz -w 16\")"
   ]
  },
  {
   "cell_type": "markdown",
   "id": "6cfd3234-576e-4f62-a7de-eb0f34950ff6",
   "metadata": {},
   "source": [
    "## Assemble results with multiqc"
   ]
  },
  {
   "cell_type": "code",
   "execution_count": null,
   "id": "31bdc2e5-2456-477a-9850-bca3aef157f9",
   "metadata": {
    "tags": []
   },
   "outputs": [],
   "source": [
    "os.chdir(fastp)\n",
    "dirs = os.listdir(\".\")\n",
    "len(dirs)"
   ]
  },
  {
   "cell_type": "code",
   "execution_count": null,
   "id": "39af265e-1a3d-46e4-b47b-f18e16675e0f",
   "metadata": {
    "tags": []
   },
   "outputs": [],
   "source": [
    "os.system(f\"find . -name *.json -exec cp {{}} {fastp_json} \\;\")"
   ]
  },
  {
   "cell_type": "code",
   "execution_count": null,
   "id": "9a3ce559-0ddd-40cb-b832-fe17541bbecb",
   "metadata": {
    "tags": []
   },
   "outputs": [],
   "source": [
    "os.chdir(fastp_json)\n",
    "os.system(\"for filename in *.json; do mv $filename ${filename%.*}_fastp.json; done;\")"
   ]
  },
  {
   "cell_type": "code",
   "execution_count": null,
   "id": "7667398e-c86a-49fe-be8a-ca6097592409",
   "metadata": {
    "tags": []
   },
   "outputs": [],
   "source": [
    "files = os.listdir(\".\")\n",
    "len(files)"
   ]
  },
  {
   "cell_type": "code",
   "execution_count": null,
   "id": "09f2b457-7f48-41c0-9de7-99ccfd283eb5",
   "metadata": {
    "tags": []
   },
   "outputs": [],
   "source": [
    "os.system(f\"multiqc {fastp_json} --filename multiqc_report_fastp -o {fastp_json}/.. -f --interactive -c ../configs/multiqc_config.yaml\")"
   ]
  },
  {
   "cell_type": "markdown",
   "id": "c168a064-3276-4dce-a631-7da91d710501",
   "metadata": {},
   "source": [
    "## STAR index"
   ]
  },
  {
   "cell_type": "code",
   "execution_count": null,
   "id": "edfc12d8-20e6-494c-ae06-ebc9cdcbb9bb",
   "metadata": {
    "tags": []
   },
   "outputs": [],
   "source": [
    "config[\"star\"]"
   ]
  },
  {
   "cell_type": "code",
   "execution_count": null,
   "id": "7178ddf0-3454-4594-a138-27803dfdbdf1",
   "metadata": {
    "tags": []
   },
   "outputs": [],
   "source": [
    "genome_keys = {\n",
    "    \"genomeDir\": \"--genomeDir\",\n",
    "    \"genomeFastaFiles\": \"--genomeFastaFiles\",\n",
    "    \"sjdbGTFfile\": \"--sjdbGTFfile\",\n",
    "    \"sjdbOverhang\": \"--sjdbOverhang\",\n",
    "    \"runThreadN\": \"--runThreadN\",\n",
    "    \"genomeSAindexNbases\": \"--genomeSAindexNbases\",\n",
    "    \"genomeChrBinNbits\": \"--genomeChrBinNbits\",\n",
    "    \"genomeSAsparseD\": \"--genomeSAsparseD\",\n",
    "    \"sjdbGTFfeatureExon\": \"--sjdbGTFfeatureExon\",\n",
    "    \"sjdbGTFtagExonParentTranscript\": \"--sjdbGTFtagExonParentTranscript\",\n",
    "    \"sjdbGTFtagExonParentGene\": \"--sjdbGTFtagExonParentGene\",\n",
    "    \"sjdbInsertSave\": \"--sjdbInsertSave\",\n",
    "}\n",
    "\n",
    "cmd = [\"STAR\", \"--runMode\", \"genomeGenerate\"]\n",
    "for k, flag in genome_keys.items():\n",
    "    if k in config[\"star\"] and config[\"star\"][k] not in (None, \"\"):\n",
    "        v = config[\"star\"][k]\n",
    "        if k == \"genomeFastaFiles\" and isinstance(v, list):\n",
    "            v = \" \".join(map(str, v))\n",
    "        cmd += [flag, str(v)]"
   ]
  },
  {
   "cell_type": "code",
   "execution_count": null,
   "id": "29514cac-659c-49af-b14b-f38d7646e4d0",
   "metadata": {
    "tags": []
   },
   "outputs": [],
   "source": [
    "required = [\"genomeDir\", \"genomeFastaFiles\"]\n",
    "for r in required:\n",
    "    if r not in config[\"star\"]:\n",
    "        raise ValueError(f\"Missing required parameter for genomeGenerate: {r}\")\n",
    "\n",
    "# Make genomeDir if needed\n",
    "os.makedirs(config[\"star\"][\"genomeDir\"], exist_ok=True)\n",
    "\n",
    "print(\"Will run:\\n\", \" \".join(shlex.quote(c) for c in cmd))"
   ]
  },
  {
   "cell_type": "code",
   "execution_count": null,
   "id": "a35102b2-cccc-42d2-a664-4e45cd4d8702",
   "metadata": {
    "tags": []
   },
   "outputs": [],
   "source": [
    "os.system(\" \".join(shlex.quote(c) for c in cmd))"
   ]
  },
  {
   "cell_type": "code",
   "execution_count": null,
   "id": "63700ed0-655a-4741-a10f-171885219bed",
   "metadata": {},
   "outputs": [],
   "source": []
  },
  {
   "cell_type": "markdown",
   "id": "87ae38b3-3299-4c2a-becd-9047f2938dc9",
   "metadata": {},
   "source": [
    "## Star alignment"
   ]
  },
  {
   "cell_type": "code",
   "execution_count": null,
   "id": "6ee5b794-9695-418f-ba01-c80cee77b2c2",
   "metadata": {
    "tags": []
   },
   "outputs": [],
   "source": [
    "align_flag_map = {\n",
    "    \"runThreadN\": \"--runThreadN\",\n",
    "    \"genomeDir\": \"--genomeDir\",\n",
    "    \"outFilterType\": \"--outFilterType\",\n",
    "    \"outFilterMultimapNmax\": \"--outFilterMultimapNmax\",\n",
    "    \"alignSJoverhangMin\": \"--alignSJoverhangMin\",\n",
    "    \"alignSJDBoverhangMin\": \"--alignSJDBoverhangMin\",\n",
    "    \"outFilterMismatchNmax\": \"--outFilterMismatchNmax\",\n",
    "    \"outFilterMismatchNoverLmax\": \"--outFilterMismatchNoverLmax\",\n",
    "    \"alignIntronMin\": \"--alignIntronMin\",\n",
    "    \"alignIntronMax\": \"--alignIntronMax\",\n",
    "    \"alignMatesGapMax\": \"--alignMatesGapMax\",\n",
    "    \"outSAMtype\": \"--outSAMtype\",\n",
    "    \"outBAMcompression\": \"--outBAMcompression\"\n",
    "}\n",
    "\n",
    "def build_star_align_cmd(star_params, R1, R2=None, out_prefix=\"sample\", out_dir=\".\"):\n",
    "    os.makedirs(out_dir, exist_ok=True)\n",
    "    prefix_path = os.path.join(out_dir, out_prefix) + \".\"\n",
    "    \n",
    "    cmd = [\"STAR\"]\n",
    "    for k, flag in align_flag_map.items():\n",
    "        if k in star_params and star_params[k] not in (None, \"\"):\n",
    "            v = star_params[k]\n",
    "            if isinstance(v, (list, tuple)):\n",
    "                cmd += [flag] + [str(x) for x in v]\n",
    "            else:\n",
    "                # also handle space-separated strings like \"BAM SortedByCoordinate\"\n",
    "                parts = str(v).split()\n",
    "                cmd += [flag] + parts\n",
    "    \n",
    "    if R2:\n",
    "        cmd += [\"--readFilesIn\", R1, R2]\n",
    "    else:\n",
    "        cmd += [\"--readFilesIn\", R1]\n",
    "    \n",
    "    # auto-detect gz\n",
    "    if R1.endswith(\".gz\") or (R2 and R2.endswith(\".gz\")):\n",
    "        cmd += [\"--readFilesCommand\", \"gunzip\", \"-c\"]\n",
    "    \n",
    "    cmd += [\"--outFileNamePrefix\", prefix_path]\n",
    "    return cmd"
   ]
  },
  {
   "cell_type": "code",
   "execution_count": null,
   "id": "fa00bb44-93c9-461b-aca9-00e709da8d64",
   "metadata": {
    "tags": []
   },
   "outputs": [],
   "source": [
    "for i in range(len(ids)):\n",
    "    path = \"\".join([fastp, '/',ids[i],\"_fastp\"])\n",
    "    r1 = \"\".join([ids[i],\"_R1_fastp.fq.gz\"])\n",
    "    r2 = \"\".join([ids[i],\"_R2_fastp.fq.gz\"])\n",
    "    cmd = build_star_align_cmd(config[\"star\"],\n",
    "                           \"\".join([path, \"/\", r1]), \"\".join([path, \"/\", r2]),\n",
    "                           out_prefix=ids[i],\n",
    "                           out_dir = \"\".join([config[\"data\"][\"star\"], \"/\", ids[i]]))\n",
    "    print(cmd)\n",
    "    subprocess.run(cmd, check=True)"
   ]
  },
  {
   "cell_type": "code",
   "execution_count": null,
   "id": "9333914d-dbac-488c-9ca0-bf189be2ce6b",
   "metadata": {},
   "outputs": [],
   "source": []
  }
 ],
 "metadata": {
  "kernelspec": {
   "display_name": "ratseq",
   "language": "python",
   "name": "ratseq"
  },
  "language_info": {
   "codemirror_mode": {
    "name": "ipython",
    "version": 3
   },
   "file_extension": ".py",
   "mimetype": "text/x-python",
   "name": "python",
   "nbconvert_exporter": "python",
   "pygments_lexer": "ipython3",
   "version": "3.11.0"
  }
 },
 "nbformat": 4,
 "nbformat_minor": 5
}
