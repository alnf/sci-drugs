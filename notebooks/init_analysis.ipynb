{
 "cells": [
  {
   "cell_type": "code",
   "execution_count": 47,
   "id": "099c261f-114e-4363-9181-89b8885a899a",
   "metadata": {
    "tags": []
   },
   "outputs": [],
   "source": [
    "import os\n",
    "import shutil\n",
    "import numpy as np\n",
    "import yaml\n",
    "import pandas as pd\n",
    "import sys\n",
    "import re"
   ]
  },
  {
   "cell_type": "markdown",
   "id": "16e756d7-d1a3-4c23-b9ed-6bcbec1b2a1a",
   "metadata": {},
   "source": [
    "## Reading config and file names"
   ]
  },
  {
   "cell_type": "code",
   "execution_count": 43,
   "id": "e08ee66b-9dd4-4832-9f20-d50e6fb25a72",
   "metadata": {
    "tags": []
   },
   "outputs": [],
   "source": [
    "os.chdir((sys.path[0]))"
   ]
  },
  {
   "cell_type": "code",
   "execution_count": 36,
   "id": "c817d0b2-6b59-42e2-9971-deea1b29f446",
   "metadata": {
    "tags": []
   },
   "outputs": [
    {
     "name": "stdout",
     "output_type": "stream",
     "text": [
      "Read successful\n",
      "[{'data': {'raw': '/mnt/scratch/drugs/raws', 'fastp': '/mnt/scratch/drugs/fastp', 'fastp_json': '/mnt/scratch/drugs/multiqc/fastp_json', 'referece': '/mnt/scratch/drugs/reference', 'star': '/mnt/scratch/drugs/star'}}, {'star': {'threads': 28}}]\n"
     ]
    }
   ],
   "source": [
    "with open(\"../configs/config.yaml\", \"r\") as yamlfile:\n",
    "    config = yaml.load(yamlfile, Loader=yaml.FullLoader)\n",
    "    print(\"Read successful\")\n",
    "print(config)"
   ]
  },
  {
   "cell_type": "code",
   "execution_count": 37,
   "id": "6140f644-f78f-4dfe-84ff-1fe6b70294a3",
   "metadata": {
    "tags": []
   },
   "outputs": [],
   "source": [
    "raw = config[0]['data']['raw']\n",
    "fastp = config[0]['data']['fastp']\n",
    "fastp_json = config[0]['data']['fastp_json']"
   ]
  },
  {
   "cell_type": "code",
   "execution_count": 53,
   "id": "18bcbda2-d4a1-42c4-97cc-776564728090",
   "metadata": {
    "tags": []
   },
   "outputs": [],
   "source": [
    "metadata = pd.read_csv(\"../metadata/drugs_metadata.tsv\", sep=\"\\t\")\n",
    "mapping = dict(zip(metadata.iloc[:, 1], metadata.iloc[:, 0]))\n",
    "mapping = {\n",
    "    re.sub(r'\\.fastq(?:\\.gz)?$|\\.fq(?:\\.gz)?$', '', k): v\n",
    "    for k, v in mapping.items()\n",
    "}\n",
    "with open(\"../configs/multiqc_config.yaml\", \"w\") as f:\n",
    "    yaml.dump({\"sample_names_replace\": mapping}, f, default_flow_style=False)"
   ]
  },
  {
   "cell_type": "code",
   "execution_count": 22,
   "id": "eb0b9381-a948-4158-973b-c5492621a064",
   "metadata": {
    "tags": []
   },
   "outputs": [
    {
     "data": {
      "text/plain": [
       "60"
      ]
     },
     "execution_count": 39,
     "metadata": {},
     "output_type": "execute_result"
    }
   ],
   "source": [
    "os.chdir(raw)\n",
    "files = [f for f in os.listdir('.') if os.path.isfile(f)]\n",
    "files.sort()\n",
    "len(files)"
   ]
  },
  {
   "cell_type": "code",
   "execution_count": 41,
   "id": "6df07fb8-efbe-4b21-b607-bbc891e604c8",
   "metadata": {
    "tags": []
   },
   "outputs": [
    {
     "data": {
      "text/plain": [
       "30"
      ]
     },
     "execution_count": 41,
     "metadata": {},
     "output_type": "execute_result"
    }
   ],
   "source": [
    "ids = np.unique([\n",
    "    \"_\".join(f.split(\"_\")[2:5])\n",
    "    for f in files\n",
    "])\n",
    "len(ids)"
   ]
  },
  {
   "cell_type": "markdown",
   "id": "9a2a5364-db36-4b20-9669-0a0d08c89d93",
   "metadata": {
    "tags": []
   },
   "source": [
    "## Perform quality control with fastp"
   ]
  },
  {
   "cell_type": "code",
   "execution_count": null,
   "id": "08a93405-8c61-4b86-8a87-9916355a14ee",
   "metadata": {
    "tags": []
   },
   "outputs": [],
   "source": [
    "for i in range(len(ids)):\n",
    "    path = \"\".join([fastp, '/',ids[i],\"_fastp\"])\n",
    "    r1 = files[i*2]\n",
    "    r2 = files[i*2+1]\n",
    "    out = \"\".join([path, \"/\", ids[i]])\n",
    "    print(out)\n",
    "    \n",
    "    if not os.path.exists(path):\n",
    "        os.makedirs(path)\n",
    "    else:\n",
    "        shutil.rmtree(path)\n",
    "        os.makedirs(path)\n",
    "\n",
    "    os.system(f\"fastp -i {r1} -I {r2} -h {out}.html -j {out}.json -o {out}\\_R1\\_fastp.fq.gz -O {out}\\_R2\\_fastp.fq.gz -w 16\")"
   ]
  },
  {
   "cell_type": "markdown",
   "id": "6cfd3234-576e-4f62-a7de-eb0f34950ff6",
   "metadata": {},
   "source": [
    "## Assemble results with multiqc"
   ]
  },
  {
   "cell_type": "code",
   "execution_count": 10,
   "id": "31bdc2e5-2456-477a-9850-bca3aef157f9",
   "metadata": {
    "tags": []
   },
   "outputs": [
    {
     "data": {
      "text/plain": [
       "30"
      ]
     },
     "execution_count": 10,
     "metadata": {},
     "output_type": "execute_result"
    }
   ],
   "source": [
    "os.chdir(fastp)\n",
    "dirs = os.listdir(\".\")\n",
    "len(dirs)"
   ]
  },
  {
   "cell_type": "code",
   "execution_count": 12,
   "id": "39af265e-1a3d-46e4-b47b-f18e16675e0f",
   "metadata": {
    "tags": []
   },
   "outputs": [
    {
     "data": {
      "text/plain": [
       "0"
      ]
     },
     "execution_count": 12,
     "metadata": {},
     "output_type": "execute_result"
    }
   ],
   "source": [
    "os.system(f\"find . -name *.json -exec cp {{}} {fastp_json} \\;\")"
   ]
  },
  {
   "cell_type": "code",
   "execution_count": 13,
   "id": "9a3ce559-0ddd-40cb-b832-fe17541bbecb",
   "metadata": {
    "tags": []
   },
   "outputs": [
    {
     "data": {
      "text/plain": [
       "0"
      ]
     },
     "execution_count": 13,
     "metadata": {},
     "output_type": "execute_result"
    }
   ],
   "source": [
    "os.chdir(fastp_json)\n",
    "os.system(\"for filename in *.json; do mv $filename ${filename%.*}_fastp.json; done;\")"
   ]
  },
  {
   "cell_type": "code",
   "execution_count": 14,
   "id": "7667398e-c86a-49fe-be8a-ca6097592409",
   "metadata": {
    "tags": []
   },
   "outputs": [
    {
     "data": {
      "text/plain": [
       "30"
      ]
     },
     "execution_count": 14,
     "metadata": {},
     "output_type": "execute_result"
    }
   ],
   "source": [
    "files = os.listdir(\".\")\n",
    "len(files)"
   ]
  },
  {
   "cell_type": "code",
   "execution_count": 54,
   "id": "09f2b457-7f48-41c0-9de7-99ccfd283eb5",
   "metadata": {
    "tags": []
   },
   "outputs": [
    {
     "name": "stderr",
     "output_type": "stream",
     "text": [
      "\n",
      "  \u001b[34m/\u001b[0m\u001b[32m/\u001b[0m\u001b[31m/\u001b[0m \u001b]8;id=5498;https://multiqc.info\u001b\\\u001b[1mMultiQC\u001b[0m\u001b]8;;\u001b\\ 🔍 \u001b[2m| v1.14\u001b[0m\n",
      "\n",
      "\u001b[34m|           multiqc\u001b[0m | \u001b[33mMultiQC Version v1.30 now available!\u001b[0m\n",
      "\u001b[34m|           multiqc\u001b[0m | Search path : /mnt/scratch/drugs/multiqc/fastp_json\n",
      "\u001b[2K|         searching | ━━━━━━━━━━━━━━━━━━━━━━━━━━━━━━━━━━━━━━━━ 100% 30/30  \n",
      "\u001b[?25h\u001b[34m|             fastp\u001b[0m | Found 30 reports\n",
      "\u001b[34m|           multiqc\u001b[0m | Compressing plot data\n",
      "\u001b[34m|           multiqc\u001b[0m | \u001b[33mDeleting    : ../../../../../mnt/scratch/drugs/multiqc/multiqc_report_fastp.html   (-f was specified)\u001b[0m\n",
      "\u001b[34m|           multiqc\u001b[0m | \u001b[33mDeleting    : ../../../../../mnt/scratch/drugs/multiqc/multiqc_report_fastp_data   (-f was specified)\u001b[0m\n",
      "\u001b[34m|           multiqc\u001b[0m | Report      : ../../../../../mnt/scratch/drugs/multiqc/multiqc_report_fastp.html\n",
      "\u001b[34m|           multiqc\u001b[0m | Data        : ../../../../../mnt/scratch/drugs/multiqc/multiqc_report_fastp_data\n",
      "\u001b[34m|           multiqc\u001b[0m | MultiQC complete\n"
     ]
    },
    {
     "data": {
      "text/plain": [
       "0"
      ]
     },
     "execution_count": 54,
     "metadata": {},
     "output_type": "execute_result"
    }
   ],
   "source": [
    "os.system(f\"multiqc {fastp_json} --filename multiqc_report_fastp -o {fastp_json}/.. -f --interactive -c ../configs/multiqc_config.yaml\")"
   ]
  },
  {
   "cell_type": "code",
   "execution_count": null,
   "id": "4ef4bf42-73c7-425d-afe0-1b1b571e0e38",
   "metadata": {},
   "outputs": [],
   "source": []
  }
 ],
 "metadata": {
  "kernelspec": {
   "display_name": "ratseq",
   "language": "python",
   "name": "ratseq"
  },
  "language_info": {
   "codemirror_mode": {
    "name": "ipython",
    "version": 3
   },
   "file_extension": ".py",
   "mimetype": "text/x-python",
   "name": "python",
   "nbconvert_exporter": "python",
   "pygments_lexer": "ipython3",
   "version": "3.11.0"
  }
 },
 "nbformat": 4,
 "nbformat_minor": 5
}
